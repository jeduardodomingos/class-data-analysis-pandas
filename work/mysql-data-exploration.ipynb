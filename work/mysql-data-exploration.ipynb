{
 "cells": [
  {
   "cell_type": "code",
   "execution_count": 3,
   "id": "f213b692-1ff8-4b54-b747-0d3a43135f16",
   "metadata": {
    "tags": []
   },
   "outputs": [
    {
     "name": "stdout",
     "output_type": "stream",
     "text": [
      "Requirement already satisfied: sqlalchemy in /opt/conda/lib/python3.10/site-packages (2.0.9)\n",
      "Requirement already satisfied: typing-extensions>=4.2.0 in /opt/conda/lib/python3.10/site-packages (from sqlalchemy) (4.5.0)\n",
      "Requirement already satisfied: greenlet!=0.4.17 in /opt/conda/lib/python3.10/site-packages (from sqlalchemy) (2.0.2)\n",
      "Note: you may need to restart the kernel to use updated packages.\n",
      "Collecting pymysql\n",
      "  Downloading PyMySQL-1.0.3-py3-none-any.whl (43 kB)\n",
      "\u001b[2K     \u001b[90m━━━━━━━━━━━━━━━━━━━━━━━━━━━━━━━━━━━━━━━\u001b[0m \u001b[32m43.7/43.7 kB\u001b[0m \u001b[31m165.0 kB/s\u001b[0m eta \u001b[36m0:00:00\u001b[0ma \u001b[36m0:00:01\u001b[0m\n",
      "\u001b[?25hInstalling collected packages: pymysql\n",
      "Successfully installed pymysql-1.0.3\n",
      "Note: you may need to restart the kernel to use updated packages.\n"
     ]
    }
   ],
   "source": [
    "#Instalando as Libs Necessárias"
   ]
  },
  {
   "cell_type": "code",
   "execution_count": 4,
   "id": "c1a94d1e-65d6-4fa8-a600-71b119d881a0",
   "metadata": {
    "tags": []
   },
   "outputs": [],
   "source": [
    "#Realizando nossos imports"
   ]
  },
  {
   "cell_type": "markdown",
   "id": "bf773c3f-5dd3-4cfb-b055-0825b2295f38",
   "metadata": {},
   "source": [
    "## Realizando a leitura dos dados base (Processo de Ingestão dos Dados)"
   ]
  },
  {
   "cell_type": "code",
   "execution_count": 6,
   "id": "124af43e-a2b7-45b1-a3f4-405f9b71858b",
   "metadata": {
    "tags": []
   },
   "outputs": [],
   "source": [
    "#Lendo nossa base de Origem"
   ]
  },
  {
   "cell_type": "markdown",
   "id": "dafe2659-8d90-4582-8cb2-61c1c72d5176",
   "metadata": {},
   "source": [
    "# Utilizando o Pandas com Bancos de Dados\n",
    "\n",
    "Tópicos:\n",
    "\n",
    "- Lendos dados de uma tabela\n",
    "- Filtrando colunas\n",
    "- Realizando Joins\n",
    "- Unindo tabelas (UNION)\n",
    "- Mergeando Tabelas (JOINS)"
   ]
  },
  {
   "cell_type": "markdown",
   "id": "0ff3d6bc-8eea-4a82-a9df-5047d51bb5b5",
   "metadata": {},
   "source": [
    "## Criando nossa Conexão com o Banco de Dados"
   ]
  },
  {
   "cell_type": "code",
   "execution_count": 7,
   "id": "2ea542bb-5793-41af-854d-b31569761595",
   "metadata": {
    "tags": []
   },
   "outputs": [],
   "source": []
  },
  {
   "cell_type": "markdown",
   "id": "0fb9e428-ea1b-4462-b095-5c89292220c7",
   "metadata": {},
   "source": [
    "# Gravando Dados no Banco de Dados\n",
    "\n",
    "Consideremos que realizamos a ingestão dos dados acima e agora precisamos presistí-los em nosso banco de dados, para isso utilizaremos a estratégia abaixo\n",
    "\n",
    "Método que devemos utilizar: [pandas_df].to_sql\n",
    "\n",
    "Principais Parametros:\n",
    "  - name [Obrigatorio] : Nome da tabela\n",
    "  - schema [Opcional]: Schema do banco de dados\n",
    "  - con [Obrigatorio] : Conexão com o banco de dados\n",
    "  - index [Optional default true]: Quando TRUE o indice do dataframe é gravado no banco de dados, quando FALSE o índice não é incluido\n",
    "  - if_exists [Opcional com valor padrão fail]: Pode assumir os valores (fail (falha quando a tabela existir, replace (sobrescreve a tabela), append (apenas adiciona os dados a tabela)\n",
    "\n",
    "Mais detalhes podem ser encontrados em: https://pandas.pydata.org/docs/reference/api/pandas.DataFrame.to_sql.html"
   ]
  },
  {
   "cell_type": "code",
   "execution_count": 8,
   "id": "c5e186d0-4867-4125-ad9a-ac06eda4e5ab",
   "metadata": {
    "tags": []
   },
   "outputs": [
    {
     "data": {
      "text/plain": [
       "37667"
      ]
     },
     "execution_count": 8,
     "metadata": {},
     "output_type": "execute_result"
    }
   ],
   "source": [
    "#Gravando nossos dados de origem em nosso banco de dados\n"
   ]
  },
  {
   "cell_type": "markdown",
   "id": "cf54a9a7-b237-415b-afd2-c5a9ad6de579",
   "metadata": {},
   "source": [
    "# Consultando nossos dados\n",
    "\n",
    "Método/Função que devemos utilizar: Método que devemos utilizar: [pandas_df].read_sql\n",
    "\n",
    "Principais Parametros:\n",
    "- sql [Obrigatorio] - Nome da tabela ou comando SQL\n",
    "- con [Obrigatorio] : Conexão com o banco de dados\n",
    "- columns [Opcional default None]: Quando especificamos o nome da tabela no campo sql, podemos usar este parametro pra especificar quais colunas desejamos "
   ]
  },
  {
   "cell_type": "code",
   "execution_count": 23,
   "id": "ae10c4ee-a0a8-4169-889f-210afa0ea6e0",
   "metadata": {
    "tags": []
   },
   "outputs": [],
   "source": [
    "#Consultando dados separadamente e unificando-os utilizando Pandas"
   ]
  },
  {
   "cell_type": "code",
   "execution_count": 24,
   "id": "54e3e8f7-619a-49db-b38e-07908a704add",
   "metadata": {
    "tags": []
   },
   "outputs": [],
   "source": [
    "#Lendo os dados já unificados a partir do banco de dados"
   ]
  },
  {
   "cell_type": "markdown",
   "id": "ac92dda7-b82e-4491-94ab-7670cab943e3",
   "metadata": {},
   "source": [
    "## Realizando a Limpeza de Nossos Dados\n",
    "\n",
    "- Removendo Colunas Indesejadas\n",
    "- Formatando e Normalizando Colunas"
   ]
  },
  {
   "cell_type": "code",
   "execution_count": null,
   "id": "676389a6-6298-48fe-84a9-949ebe157a46",
   "metadata": {},
   "outputs": [],
   "source": [
    "#Removendo Colunas Utilizando Pandas\n",
    "\n",
    "#Removendo Colunas Utilizando SQL"
   ]
  },
  {
   "cell_type": "markdown",
   "id": "dc5be7ef-07b1-4309-8531-e8e5e67f498e",
   "metadata": {},
   "source": [
    "## Análise Exploratória de Dados Utilizando Bancos de Dados\n",
    "\n",
    "- Calculo de Média usando o Pandas\n",
    "- Calculo de Média utilizando SQL\n",
    "- Calculo de Desvio Padrão utilizando Pandas\n",
    "- Calculo de Desvio Padrão utilizando SQL"
   ]
  },
  {
   "cell_type": "markdown",
   "id": "2482e5b7-e779-496b-8872-657e547621e2",
   "metadata": {},
   "source": [
    "### Podemos por exemplo verificar qual a média de preço de revenda por estado\n",
    "\n",
    "- AVG\n",
    "- STD"
   ]
  },
  {
   "cell_type": "code",
   "execution_count": null,
   "id": "9c5f0be0-eb51-417b-a0c9-fc2c049b2fcb",
   "metadata": {
    "tags": []
   },
   "outputs": [],
   "source": []
  },
  {
   "cell_type": "markdown",
   "id": "61603213-0672-471c-8392-ed6224c567a2",
   "metadata": {},
   "source": [
    "### Análisando a Correlação entre o preço médio e Quantidade de Bandeiras Concorrentes por Estado"
   ]
  },
  {
   "cell_type": "code",
   "execution_count": null,
   "id": "a3de69e3-8532-4dba-be1a-c1df7b2c182f",
   "metadata": {},
   "outputs": [],
   "source": []
  }
 ],
 "metadata": {
  "kernelspec": {
   "display_name": "Python 3 (ipykernel)",
   "language": "python",
   "name": "python3"
  },
  "language_info": {
   "codemirror_mode": {
    "name": "ipython",
    "version": 3
   },
   "file_extension": ".py",
   "mimetype": "text/x-python",
   "name": "python",
   "nbconvert_exporter": "python",
   "pygments_lexer": "ipython3",
   "version": "3.10.10"
  }
 },
 "nbformat": 4,
 "nbformat_minor": 5
}
